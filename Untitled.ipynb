{
 "cells": [
  {
   "cell_type": "code",
   "execution_count": null,
   "id": "8f589524-1c65-4a0e-bdc8-756c4c9bcc22",
   "metadata": {},
   "outputs": [],
   "source": [
    "1-un servive web est un protocole dinterface informatique de la famille des technologies web permettant la communication et léchange de données entre applications et systèmes hétérogènes dans des environnements distribués\n",
    "\n",
    "\n",
    "2-Une API REST (également appelée API RESTful) est une interface de programmation dapplication (API ou API web) qui respecte les contraintes du style darchitecture REST et permet dinteragir avec les services web RESTful. \n",
    "\n",
    "3-FastAPI est un framework web Python qui permet de créer rapidement des API de haute performance."
   ]
  }
 ],
 "metadata": {
  "kernelspec": {
   "display_name": "Python 3 (ipykernel)",
   "language": "python",
   "name": "python3"
  },
  "language_info": {
   "codemirror_mode": {
    "name": "ipython",
    "version": 3
   },
   "file_extension": ".py",
   "mimetype": "text/x-python",
   "name": "python",
   "nbconvert_exporter": "python",
   "pygments_lexer": "ipython3",
   "version": "3.9.10"
  }
 },
 "nbformat": 4,
 "nbformat_minor": 5
}
